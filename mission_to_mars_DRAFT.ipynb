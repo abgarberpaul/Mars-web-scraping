{
 "cells": [
  {
   "cell_type": "code",
   "execution_count": 1,
   "metadata": {},
   "outputs": [],
   "source": [
    "# Dependencies\n",
    "from splinter import Browser\n",
    "from splinter.exceptions import ElementDoesNotExist\n",
    "from bs4 import BeautifulSoup\n",
    "from time import sleep\n",
    "import pandas as pd\n",
    "import requests\n",
    "import pprint"
   ]
  },
  {
   "cell_type": "code",
   "execution_count": 2,
   "metadata": {},
   "outputs": [],
   "source": [
    "## NASA MARS NEWS\n",
    "# scrape Nasa Mars News Site & collect latest NEWS TITLE and PARAGRAPH TEXT\n"
   ]
  },
  {
   "cell_type": "code",
   "execution_count": 3,
   "metadata": {},
   "outputs": [],
   "source": [
    "# Open a new chrome browser window (and icon on task bar)\n",
    "# uses chromedriver, not chrome\n",
    "\n",
    "executable_path = {'executable_path': 'chromedriver'}\n",
    "browser = Browser('chrome', **executable_path, headless=False)"
   ]
  },
  {
   "cell_type": "code",
   "execution_count": 26,
   "metadata": {},
   "outputs": [],
   "source": [
    "# Navigate chromebrowser window to NASA News site\n",
    "nasa_url = \"https://mars.nasa.gov/news/\"\n",
    "browser.visit(nasa_url)\n",
    "\n",
    "# Set a manual delay.\n",
    "sleep(3) \n",
    "\n",
    "# &run BeautifulSoup to parse the site's HTML\n",
    "html = browser.html\n",
    "soup = BeautifulSoup(html, 'html.parser')"
   ]
  },
  {
   "cell_type": "code",
   "execution_count": 27,
   "metadata": {},
   "outputs": [
    {
     "data": {
      "text/plain": [
       "\"A Martian Roundtrip: NASA's Perseverance Rover Sample Tubes\""
      ]
     },
     "execution_count": 27,
     "metadata": {},
     "output_type": "execute_result"
    }
   ],
   "source": [
    "# Grab the latest headline\n",
    "nasa_title = soup.find_all(\"div\", class_=\"content_title\")[1].get_text()\n",
    "nasa_title\n"
   ]
  },
  {
   "cell_type": "code",
   "execution_count": 29,
   "metadata": {},
   "outputs": [
    {
     "data": {
      "text/plain": [
       "\"Marvels of engineering, the rover's sample tubes must be tough enough to safely bring Red Planet samples on the long journey back to Earth in immaculate condition. \""
      ]
     },
     "execution_count": 29,
     "metadata": {},
     "output_type": "execute_result"
    }
   ],
   "source": [
    "# Grab the latest paragraph\n",
    "nasa_title = soup.find_all(\"div\", class_=\"article_teaser_body\")[0].get_text()\n",
    "nasa_title"
   ]
  },
  {
   "cell_type": "code",
   "execution_count": 6,
   "metadata": {},
   "outputs": [],
   "source": [
    "# Close the chromebrowser window\n",
    "browser.quit()"
   ]
  },
  {
   "cell_type": "code",
   "execution_count": 7,
   "metadata": {},
   "outputs": [],
   "source": [
    "##JPL MARS SPACE IMAGES\n",
    "#Use splinter to find current FEATURED MARS IMAGE"
   ]
  },
  {
   "cell_type": "code",
   "execution_count": 8,
   "metadata": {},
   "outputs": [],
   "source": [
    "# Open a new chrome browser window (and icon on task bar)\n",
    "# uses chromedriver, not chrome\n",
    "\n",
    "executable_path = {'executable_path': 'chromedriver'}\n",
    "browser = Browser('chrome', **executable_path, headless=False)"
   ]
  },
  {
   "cell_type": "code",
   "execution_count": 9,
   "metadata": {},
   "outputs": [],
   "source": [
    "# Navigate chromebrowser window to JPL images site\n",
    "jpl_url = \"https://www.jpl.nasa.gov/spaceimages/?search=&category=Mars\"\n",
    "browser.visit(jpl_url)"
   ]
  },
  {
   "cell_type": "code",
   "execution_count": 10,
   "metadata": {},
   "outputs": [],
   "source": [
    "# Set a manual delay.\n",
    "sleep(3) \n"
   ]
  },
  {
   "cell_type": "code",
   "execution_count": 11,
   "metadata": {},
   "outputs": [],
   "source": [
    "# USE SPLINTER to navigate & store jpg url:\n",
    "\n",
    "# Click on the FULL IMAGE link (in browser)\n",
    "browser.links.find_by_partial_text(\"FULL IMAGE\").click()"
   ]
  },
  {
   "cell_type": "code",
   "execution_count": 12,
   "metadata": {},
   "outputs": [
    {
     "name": "stderr",
     "output_type": "stream",
     "text": [
      "/Users/aaron/opt/anaconda3/envs/PythonData/lib/python3.6/site-packages/splinter/driver/webdriver/__init__.py:493: FutureWarning: browser.find_link_by_partial_text is deprecated. Use browser.links.find_by_partial_text instead.\n",
      "  FutureWarning,\n"
     ]
    }
   ],
   "source": [
    "# Set a manual delay.\n",
    "sleep(3) \n",
    "# Click on the MORE INFO link (in browser)\n",
    "browser.links.find_by_partial_text(\"more info\").click()"
   ]
  },
  {
   "cell_type": "code",
   "execution_count": 13,
   "metadata": {},
   "outputs": [],
   "source": [
    "# Click on the JPEG image (in browser)\n",
    "browser.links.find_by_partial_text(\".jpg\").click()"
   ]
  },
  {
   "cell_type": "code",
   "execution_count": 14,
   "metadata": {},
   "outputs": [
    {
     "data": {
      "text/plain": [
       "'https://photojournal.jpl.nasa.gov/jpeg/PIA19168.jpg'"
      ]
     },
     "execution_count": 14,
     "metadata": {},
     "output_type": "execute_result"
    }
   ],
   "source": [
    "# Save a variable of the URL of the JPEG image file \n",
    "featured_image_url = browser.url\n",
    "featured_image_url"
   ]
  },
  {
   "cell_type": "code",
   "execution_count": 15,
   "metadata": {},
   "outputs": [],
   "source": [
    "# Close the chromebrowser window\n",
    "browser.quit()"
   ]
  },
  {
   "cell_type": "code",
   "execution_count": 16,
   "metadata": {},
   "outputs": [],
   "source": [
    "##Mars Facts!\n",
    "\n",
    "# use pandas to scrape Mars Data table (facts and structure)\n",
    "# include 9 items: Equatorial Diameter, Polar diameter, mass,\n",
    "# moons, orbit , orbit, surface temp, first record, recorded by"
   ]
  },
  {
   "cell_type": "code",
   "execution_count": 17,
   "metadata": {},
   "outputs": [],
   "source": [
    "# Define URL  (Mars Facts)\n",
    "facts_url = \"https://space-facts.com/mars/\"\n",
    "\n",
    "# Read in data table via Pandas. \n",
    "# >> Specify [0] position to get just Mars data \n",
    "\n",
    "facts_df = pd.read_html(facts_url)[0]"
   ]
  },
  {
   "cell_type": "code",
   "execution_count": 18,
   "metadata": {},
   "outputs": [
    {
     "data": {
      "text/html": [
       "<div>\n",
       "<style scoped>\n",
       "    .dataframe tbody tr th:only-of-type {\n",
       "        vertical-align: middle;\n",
       "    }\n",
       "\n",
       "    .dataframe tbody tr th {\n",
       "        vertical-align: top;\n",
       "    }\n",
       "\n",
       "    .dataframe thead th {\n",
       "        text-align: right;\n",
       "    }\n",
       "</style>\n",
       "<table border=\"1\" class=\"dataframe\">\n",
       "  <thead>\n",
       "    <tr style=\"text-align: right;\">\n",
       "      <th></th>\n",
       "      <th>Metric</th>\n",
       "      <th>Planet Mars</th>\n",
       "    </tr>\n",
       "  </thead>\n",
       "  <tbody>\n",
       "    <tr>\n",
       "      <th>0</th>\n",
       "      <td>Equatorial Diameter</td>\n",
       "      <td>6,792 km</td>\n",
       "    </tr>\n",
       "    <tr>\n",
       "      <th>1</th>\n",
       "      <td>Polar Diameter</td>\n",
       "      <td>6,752 km</td>\n",
       "    </tr>\n",
       "    <tr>\n",
       "      <th>2</th>\n",
       "      <td>Mass</td>\n",
       "      <td>6.39 × 10^23 kg (0.11 Earths)</td>\n",
       "    </tr>\n",
       "    <tr>\n",
       "      <th>3</th>\n",
       "      <td>Moons</td>\n",
       "      <td>2 (Phobos &amp; Deimos)</td>\n",
       "    </tr>\n",
       "    <tr>\n",
       "      <th>4</th>\n",
       "      <td>Orbit Distance</td>\n",
       "      <td>227,943,824 km (1.38 AU)</td>\n",
       "    </tr>\n",
       "    <tr>\n",
       "      <th>5</th>\n",
       "      <td>Orbit Period</td>\n",
       "      <td>687 days (1.9 years)</td>\n",
       "    </tr>\n",
       "    <tr>\n",
       "      <th>6</th>\n",
       "      <td>Surface Temperature</td>\n",
       "      <td>-87 to -5 °C</td>\n",
       "    </tr>\n",
       "    <tr>\n",
       "      <th>7</th>\n",
       "      <td>First Record</td>\n",
       "      <td>2nd millennium BC</td>\n",
       "    </tr>\n",
       "    <tr>\n",
       "      <th>8</th>\n",
       "      <td>Recorded By</td>\n",
       "      <td>Egyptian astronomers</td>\n",
       "    </tr>\n",
       "  </tbody>\n",
       "</table>\n",
       "</div>"
      ],
      "text/plain": [
       "                Metric                    Planet Mars\n",
       "0  Equatorial Diameter                       6,792 km\n",
       "1       Polar Diameter                       6,752 km\n",
       "2                 Mass  6.39 × 10^23 kg (0.11 Earths)\n",
       "3                Moons            2 (Phobos & Deimos)\n",
       "4       Orbit Distance       227,943,824 km (1.38 AU)\n",
       "5         Orbit Period           687 days (1.9 years)\n",
       "6  Surface Temperature                   -87 to -5 °C\n",
       "7         First Record              2nd millennium BC\n",
       "8          Recorded By           Egyptian astronomers"
      ]
     },
     "execution_count": 18,
     "metadata": {},
     "output_type": "execute_result"
    }
   ],
   "source": [
    "# Create a polished dataframe with column headers and text clean-up\n",
    "facts_df.columns = [\"Metric\", \"Planet Mars\"]\n",
    "\n",
    "# Remove the colon character in DESCRIPTION column\n",
    "facts_df[\"Metric\"] = facts_df[\"Metric\"].str.replace(\":\",\"\") \n",
    "\n",
    "facts_df\n"
   ]
  },
  {
   "cell_type": "code",
   "execution_count": 19,
   "metadata": {},
   "outputs": [],
   "source": [
    "# Use Pandas to convert the data to a HTML table string\n",
    "facts_df.set_index(\"Metric\", inplace=True)\n",
    "\n",
    "# print(facts_html)\n",
    "facts_html = facts_df.to_html()"
   ]
  },
  {
   "cell_type": "code",
   "execution_count": 20,
   "metadata": {},
   "outputs": [],
   "source": [
    "## OVERVIEW: MARS HEMISPHERES\n",
    "#  1. Visit USGS Astrogeology site & obstain hi res images for each of Mars' hemispheres\n",
    "#  2. Click each link to open image url to full resolution\n",
    "#  3. Save image url for full res image, and hemisphere tilte containing hemi. name. \n",
    "#   >> use a python dictionary to store the data using the keys \"img_url\" and \"title\"\n",
    "#  4. Append the dictionary with the image url string and the hemisphere title to a list.\n",
    "#     This list will contain one dictionary for each hemisphere"
   ]
  },
  {
   "cell_type": "code",
   "execution_count": 36,
   "metadata": {},
   "outputs": [],
   "source": [
    "\n",
    "\n",
    "# Open a new chrome browser window (and icon on task bar)\n",
    "# uses chromedriver, not chrome\n",
    "executable_path = {'executable_path': 'chromedriver'}\n",
    "browser = Browser('chrome', **executable_path, headless=False)"
   ]
  },
  {
   "cell_type": "code",
   "execution_count": 37,
   "metadata": {},
   "outputs": [],
   "source": [
    "# MARS HEMISPHERES, step-by-step\n",
    "#  Visit USGS Astrogeology site & obstain hi res images for each of Mars' hemispheres\n",
    "#def mars_hemisphere_function(browser):\n",
    "    \n",
    "# Navigate chromebrowser window to MARS HEMISPHERES website    \n",
    "mars_url = \"https://astrogeology.usgs.gov/search/results?q=hemisphere+enhanced&k1=target&v1=Mars\"\n",
    "browser.visit(mars_url)\n",
    "\n",
    "# Set a manual delay.\n",
    "sleep(3) \n",
    "\n",
    "# &run BeautifulSoup to parse the site's HTML\n",
    "html = browser.html\n",
    "soup = BeautifulSoup(html, 'html.parser')\n",
    "\n"
   ]
  },
  {
   "cell_type": "code",
   "execution_count": 39,
   "metadata": {},
   "outputs": [],
   "source": [
    "# Create dictionary for URLs & pics (empty); Create list for image URLs (empty); \n",
    "# Create list of hemisphere names (FILLED)\n",
    "mars_dict = {}\n",
    "mars_hemi_urls = []\n",
    "mars_hemi = [\"Cerberus\", \"Schiaparelli\", \"Syrtis\", \"Valles\"]"
   ]
  },
  {
   "cell_type": "code",
   "execution_count": null,
   "metadata": {},
   "outputs": [],
   "source": []
  },
  {
   "cell_type": "code",
   "execution_count": 40,
   "metadata": {},
   "outputs": [
    {
     "name": "stdout",
     "output_type": "stream",
     "text": [
      "Cerberus\n",
      "Schiaparelli\n",
      "Syrtis\n",
      "Valles\n"
     ]
    }
   ],
   "source": [
    "# Loop through hemispheres by name, populate dictionary with URL and pic\n",
    "for hemi in mars_hemi:\n",
    "    \n",
    "    print(hemi)\n",
    "    sleep(3)\n",
    "    \n",
    "    browser.links.find_by_partial_text(hemi).click()\n",
    "    \n",
    "    face_html = browser.html\n",
    "    soup = BeautifulSoup(face_html, \"html.parser\")\n",
    "    \n",
    "    mars_dict[\"title\"]= soup.find(\n",
    "        \"h2\").get_text().replace(\"Enhanced\",\"\").strip()\n",
    "    mars_dict[\"img_url\"] = soup.find_all(\"div\", class_=\"downloads\")[0].find_all(\"a\")[0][\"href\"]\n",
    "    mars_hemi_urls.append(mars_dict)\n",
    "\n",
    "# go back to main directory\n",
    "    browser.back()\n",
    "\n",
    "# view images URLs\n",
    "#return mars_hemi_urls\n",
    "# Close the chromebrowser window\n",
    "#browser.quit()\n",
    "                  "
   ]
  },
  {
   "cell_type": "code",
   "execution_count": 41,
   "metadata": {
    "scrolled": true
   },
   "outputs": [
    {
     "name": "stdout",
     "output_type": "stream",
     "text": [
      "[{'title': 'Valles Marineris Hemisphere', 'img_url': 'https://astropedia.astrogeology.usgs.gov/download/Mars/Viking/valles_marineris_enhanced.tif/full.jpg'}, {'title': 'Valles Marineris Hemisphere', 'img_url': 'https://astropedia.astrogeology.usgs.gov/download/Mars/Viking/valles_marineris_enhanced.tif/full.jpg'}, {'title': 'Valles Marineris Hemisphere', 'img_url': 'https://astropedia.astrogeology.usgs.gov/download/Mars/Viking/valles_marineris_enhanced.tif/full.jpg'}, {'title': 'Valles Marineris Hemisphere', 'img_url': 'https://astropedia.astrogeology.usgs.gov/download/Mars/Viking/valles_marineris_enhanced.tif/full.jpg'}]\n"
     ]
    }
   ],
   "source": [
    "print(mars_hemi_urls)"
   ]
  },
  {
   "cell_type": "code",
   "execution_count": null,
   "metadata": {},
   "outputs": [],
   "source": [
    "# STEP 2 ON TO MONGO DB & FLASK....."
   ]
  },
  {
   "cell_type": "code",
   "execution_count": null,
   "metadata": {},
   "outputs": [],
   "source": [
    "# (convert Jupyter notebook to Python script with a function called \"scrape\"\n",
    "# that will convert all of your scraping code from above and return one python dictionary \n",
    "# containing all of the scraped data\n",
    "# >>The cleanest way is to just copy and paste code from jupyter notebook to a .py file <<\n",
    "#\n",
    "# NEXT in app.py file create a route called /scrape that will import scrape_mars.py script \n",
    "# and call your \"scrape\" function. Store your return value in Mongo as a Python dictionary.\n",
    "\n",
    "# Create a root route / that will query your Mongo database and pass the mars data into \n",
    "# an HTML template to display the data.\n",
    "\n",
    "# Create a template HTML file called \"index.html\" that will take the mars data dictionary\n",
    "# and display all of the data in the appropriate HTML elements. Use the following as a guide\n",
    "# for what the final product should look like, but feel free to create your own design. \n",
    "# >>As long as all the data is displayed, formatting and design are of secondary importance. <<\n",
    "# Reminder that in order to interact correctly with flask, this HTML file must live in the\n",
    "# templates folder that is located in the same folder as your app.py file. \n"
   ]
  }
 ],
 "metadata": {
  "kernelspec": {
   "display_name": "Python 3",
   "language": "python",
   "name": "python3"
  },
  "language_info": {
   "codemirror_mode": {
    "name": "ipython",
    "version": 3
   },
   "file_extension": ".py",
   "mimetype": "text/x-python",
   "name": "python",
   "nbconvert_exporter": "python",
   "pygments_lexer": "ipython3",
   "version": "3.6.12"
  }
 },
 "nbformat": 4,
 "nbformat_minor": 4
}
